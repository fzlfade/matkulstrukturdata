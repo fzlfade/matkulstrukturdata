{
 "cells": [
  {
   "cell_type": "code",
   "execution_count": 1,
   "metadata": {},
   "outputs": [
    {
     "name": "stdout",
     "output_type": "stream",
     "text": [
      "Element yang dicari berada pada indeks ke - 1\n"
     ]
    }
   ],
   "source": [
    "def Liniersearch(arr, N, x):\n",
    "\n",
    "\tfor i in range(0, N):\n",
    "\t\tif (arr[i] == x):\n",
    "\t\t\treturn i\n",
    "\treturn -1\n",
    "\n",
    "\n",
    "# Driver Code\n",
    "if __name__ == \"__main__\":\n",
    "\tarr = [20,10,30,50,40]\n",
    "\tx = 10\n",
    "\tN = len(arr)\n",
    "\n",
    "\t# Function call\n",
    "\tresult = Liniersearch(arr, N, x)\n",
    "\tif(result == -1):\n",
    "\t\tprint(\"Element yang dicari tidak ada dalam array\")\n",
    "\telse:\n",
    "\t\tprint(\"Element yang dicari berada pada indeks ke -\", result)\n"
   ]
  },
  {
   "cell_type": "code",
   "execution_count": 3,
   "metadata": {},
   "outputs": [
    {
     "name": "stdout",
     "output_type": "stream",
     "text": [
      "Element is present at index 8\n"
     ]
    }
   ],
   "source": [
    "# It returns location of x in given array arr\n",
    "def binarySearch(arr, l, r, x):\n",
    "\n",
    "\twhile l <= r:\n",
    "\n",
    "\t\tmid = l + (r - l) // 2\n",
    "\n",
    "\t\t# Check if x is present at mid\n",
    "\t\tif arr[mid] == x:\n",
    "\t\t\treturn mid\n",
    "\n",
    "\t\t# If x is greater, ignore left half\n",
    "\t\telif arr[mid] < x:\n",
    "\t\t\tl = mid + 1\n",
    "\n",
    "\t\t# If x is smaller, ignore right half\n",
    "\t\telse:\n",
    "\t\t\tr = mid - 1\n",
    "\n",
    "\t# If we reach here, then the element\n",
    "\t# was not present\n",
    "\treturn -1\n",
    "\n",
    "\n",
    "# Driver Code\n",
    "if __name__ == '__main__':\n",
    "\tarr = [2,5,8,12,16,23,38,56,72,91]\n",
    "\tx = 72\n",
    "    \n",
    "\n",
    "\t# Function call\n",
    "\tresult = binarySearch(arr, 0, len(arr)-1, x)\n",
    "\tif result != -1:\n",
    "\t\tprint(\"Element is present at index\", result)\n",
    "\telse:\n",
    "\t\tprint(\"Element is not present in array\")"
   ]
  },
  {
   "cell_type": "code",
   "execution_count": 5,
   "metadata": {},
   "outputs": [
    {
     "name": "stdout",
     "output_type": "stream",
     "text": [
      "Element terdapat pada indeks ke - 8\n"
     ]
    }
   ],
   "source": [
    "# Returns index of x in arr if present, else -1\n",
    "def binarySearch(arr, l, r, x):\n",
    "\n",
    "\t# Check base case\n",
    "\tif r >= l:\n",
    "\n",
    "\t\tmid = l + (r - l) // 2\n",
    "\n",
    "\t\t# If element is present at the middle itself\n",
    "\t\tif arr[mid] == x:\n",
    "\t\t\treturn mid\n",
    "\n",
    "\t\t# If element is smaller than mid, then it\n",
    "\t\t# can only be present in left subarray\n",
    "\t\telif arr[mid] > x:\n",
    "\t\t\treturn binarySearch(arr, l, mid-1, x)\n",
    "\n",
    "\t\t# Else the element can only be present\n",
    "\t\t# in right subarray\n",
    "\t\telse:\n",
    "\t\t\treturn binarySearch(arr, mid + 1, r, x)\n",
    "\n",
    "\t# Element is not present in the array\n",
    "\telse:\n",
    "\t\treturn -1\n",
    "\n",
    "\n",
    "# Driver Code\n",
    "if __name__ == '__main__':\n",
    "\tarr = [2,5,8,12,16,23,38,56,72,91]\n",
    "\tx = 72\n",
    "\t\n",
    "\t# Function call\n",
    "\tresult = binarySearch(arr, 0, len(arr)-1, x)\n",
    "\t\n",
    "\tif result != -1:\n",
    "\t\tprint(\"Element terdapat pada indeks ke -\", result)\n",
    "\telse:\n",
    "\t\tprint(\"Element tidak ada dalam array\")\n"
   ]
  },
  {
   "cell_type": "code",
   "execution_count": 2,
   "metadata": {},
   "outputs": [
    {
     "name": "stdout",
     "output_type": "stream",
     "text": [
      "Number 55 is at index 10\n"
     ]
    }
   ],
   "source": [
    "# Jump search\n",
    "import math\n",
    "\n",
    "def JumpSearch(arr, x, n):\n",
    "    # Finding block size to be jumped\n",
    "    step = math.sqrt(n)\n",
    "\n",
    "    # Finding the block where element is\n",
    "    # present (if it is present)\n",
    "    prev = 0\n",
    "    while arr[int(min(step, n) - 1)] < x:\n",
    "        prev = step\n",
    "        step += math.sqrt(n)\n",
    "        if prev >= n:\n",
    "            return -1\n",
    "\n",
    "    # Doing a linear search for x in\n",
    "    # block beginning with prev.\n",
    "    while arr[int(prev)] < x:\n",
    "        prev += 1\n",
    "\n",
    "        # If we reached next block or end\n",
    "        # of array, element is not present.\n",
    "        if prev == min(step, n):\n",
    "            return -1\n",
    "\n",
    "    # If element is found\n",
    "    if arr[int(prev)] == x:\n",
    "        return prev\n",
    "\n",
    "    return -1\n",
    "\n",
    "# Driver code\n",
    "if __name__ == \"__main__\":\n",
    "    arr = [0, 1, 1, 2, 3, 5, 8, 13, 21, 34, 55, 89, 144, 233, 377, 610]\n",
    "    x = 55\n",
    "    n = len(arr)\n",
    "\n",
    "    # Find the index of 'x' using Jump Search\n",
    "    index = JumpSearch(arr, x, n)\n",
    "\n",
    "    # Print the index where 'x' is located\n",
    "    print(\"Number\", x, \"is at index\", int(index))"
   ]
  },
  {
   "cell_type": "markdown",
   "metadata": {},
   "source": [
    "<h2>Studi Kasus 1"
   ]
  },
  {
   "cell_type": "code",
   "execution_count": 9,
   "metadata": {},
   "outputs": [
    {
     "name": "stdout",
     "output_type": "stream",
     "text": [
      "Element Minimum : 50\n",
      "Element Maximum : 100\n"
     ]
    }
   ],
   "source": [
    "def get_min_max(arr):\n",
    "    min_val = min(arr)\n",
    "    max_val = max(arr)\n",
    "    return min_val, max_val\n",
    "\n",
    "arr = [60,50,90,70,100,80,50]\n",
    "min_val, max_val = get_min_max(arr)\n",
    "print(\"Element Minimum :\", min_val)\n",
    "print(\"Element Maximum :\", max_val)\n"
   ]
  },
  {
   "cell_type": "markdown",
   "metadata": {},
   "source": [
    "<h2> Studi Kasus 2"
   ]
  },
  {
   "cell_type": "code",
   "execution_count": 12,
   "metadata": {},
   "outputs": [
    {
     "name": "stdout",
     "output_type": "stream",
     "text": [
      "Angka yang terulang adalah 3\n",
      "Angka yang hilang adalah 4\n"
     ]
    }
   ],
   "source": [
    "def printTwoElements(arr):\n",
    "    repeatingNumber = -1\n",
    "    missingNumber = -1\n",
    "\n",
    "    for num in arr:\n",
    "        if arr.count(num) > 1:\n",
    "            repeatingNumber = num\n",
    "\n",
    "    for i in range(1, len(arr) + 1):\n",
    "        if i not in arr:\n",
    "            missingNumber = i\n",
    "            break\n",
    "\n",
    "    print(\"Angka yang terulang adalah\", repeatingNumber)\n",
    "    print(\"Angka yang hilang adalah\", missingNumber)\n",
    "\n",
    "arr = [1,3,5,3,2,7,6,8]\n",
    "printTwoElements(arr)"
   ]
  },
  {
   "cell_type": "markdown",
   "metadata": {},
   "source": [
    "<h2>Studi Kasus 3"
   ]
  },
  {
   "cell_type": "code",
   "execution_count": 25,
   "metadata": {},
   "outputs": [
    {
     "name": "stdout",
     "output_type": "stream",
     "text": [
      "Ada\n",
      "Yaitu: -3\n"
     ]
    }
   ],
   "source": [
    "def cekPasangan(A, x):\n",
    "    for i in range(len(A) - 1):\n",
    "        for j in range(i + 1, len(A)):\n",
    "            if A[i] + A[j] == x:\n",
    "                return True\n",
    "    return False\n",
    " \n",
    " \n",
    "if __name__ == \"__main__\":\n",
    "    A = [0, -1, 2, -3, 1]\n",
    "    x = -3\n",
    " \n",
    "    if cekPasangan(A, x):\n",
    "        print(\"Ada\")\n",
    "        print(\"Yaitu:\", x)\n",
    "    else:\n",
    "        print(\"Tidak ada\")\n",
    " "
   ]
  },
  {
   "cell_type": "code",
   "execution_count": null,
   "metadata": {},
   "outputs": [],
   "source": []
  }
 ],
 "metadata": {
  "kernelspec": {
   "display_name": "base",
   "language": "python",
   "name": "python3"
  },
  "language_info": {
   "codemirror_mode": {
    "name": "ipython",
    "version": 3
   },
   "file_extension": ".py",
   "mimetype": "text/x-python",
   "name": "python",
   "nbconvert_exporter": "python",
   "pygments_lexer": "ipython3",
   "version": "3.12.0"
  }
 },
 "nbformat": 4,
 "nbformat_minor": 2
}
