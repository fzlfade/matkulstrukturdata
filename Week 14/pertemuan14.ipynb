{
 "cells": [
  {
   "cell_type": "code",
   "execution_count": 4,
   "metadata": {},
   "outputs": [
    {
     "name": "stdout",
     "output_type": "stream",
     "text": [
      "The following activities are selected\n",
      "0\n",
      "1\n",
      "3\n",
      "4\n"
     ]
    }
   ],
   "source": [
    "def printMaxActivities(s, f):\n",
    "    n = len(f)\n",
    "    print(\"The following activities are selected\")\n",
    "\n",
    "    i = 0\n",
    "    print(i),\n",
    "\n",
    "    for j in range(n):\n",
    "        if s[j] >= f[i]:\n",
    "            print(j),\n",
    "            i = j\n",
    "\n",
    "s = [1, 3, 0, 5, 8, 5]\n",
    "f = [2, 4, 6, 7, 9, 9]\n",
    "printMaxActivities(s,f)"
   ]
  },
  {
   "cell_type": "code",
   "execution_count": 5,
   "metadata": {},
   "outputs": [
    {
     "name": "stdout",
     "output_type": "stream",
     "text": [
      "Max value =  220\n"
     ]
    }
   ],
   "source": [
    "def knapsack(wt, val, W, n):\n",
    "    if n == 0 or W == 0:\n",
    "        return 0\n",
    "    if t[n][W] != -1:\n",
    "        return t[n][W]\n",
    "    \n",
    "    if wt[n-1] <= W:\n",
    "        t[n][W] = max(\n",
    "            val[n-1] + knapsack(\n",
    "                wt, val, W-wt[n-1], n-1), \n",
    "                knapsack(wt, val, W, n-1))\n",
    "        return t[n][W]\n",
    "    elif wt[n-1] > W:\n",
    "        t[n][W] = knapsack(wt, val, W, n-1)\n",
    "        return t[n][W]\n",
    "    \n",
    "if __name__ == '__main__':\n",
    "    profit = [60, 100, 120]\n",
    "    weight = [10, 20, 30]\n",
    "    W = 50\n",
    "    n = len(profit)\n",
    "\n",
    "    t = [[-1 for i in range(W+1)] for j in range(n+1)]\n",
    "    print(\"Max value = \",knapsack(weight, profit, W, n))"
   ]
  },
  {
   "cell_type": "code",
   "execution_count": 6,
   "metadata": {},
   "outputs": [
    {
     "name": "stdout",
     "output_type": "stream",
     "text": [
      "Maximum Value that can be obtained is 240.0\n"
     ]
    }
   ],
   "source": [
    "class Item:\n",
    "    def __init__(self, weight, value):\n",
    "        self.weight = weight\n",
    "        self.value = value\n",
    "        # Calculate the value-to-weight ratio for each item\n",
    "        self.ratio = value / weight\n",
    "\n",
    "def fractional_knapsack(items, capacity):\n",
    "    # Sort items by their value-to-weight ratio in non-increasing order\n",
    "    items.sort(key=lambda x: x.ratio, reverse=True)\n",
    "    \n",
    "    total_value = 0\n",
    "\n",
    "    # Initialize remaining capacity of the knapsack\n",
    "    remaining_capacity = capacity\n",
    "\n",
    "    # Iterate through the sorted items list\n",
    "    for item in items:\n",
    "        if remaining_capacity <= 0:\n",
    "            break\n",
    "\n",
    "        # Calculate fraction of the item that fits into the knapsack\n",
    "        fraction = min(1, remaining_capacity / item.weight)\n",
    "\n",
    "        # Update total value and remaining capacity\n",
    "        total_value += fraction * item.value\n",
    "        remaining_capacity -= fraction * item.weight\n",
    "\n",
    "    # Return total maximum value obtained\n",
    "    return round(total_value, 2)\n",
    "\n",
    "# Example usage\n",
    "items = [Item(10, 60), Item(20, 100), Item(30, 120)]\n",
    "capacity = 50\n",
    "print(\"Maximum Value that can be obtained is\", fractional_knapsack(items, capacity))\n"
   ]
  },
  {
   "cell_type": "code",
   "execution_count": 8,
   "metadata": {},
   "outputs": [
    {
     "name": "stdout",
     "output_type": "stream",
     "text": [
      "Minimum number of bins required is: 4\n"
     ]
    }
   ],
   "source": [
    "def first_fit_decreasing(weights, bin_capacity):\n",
    "    # Sort the items in decreasing order of weight\n",
    "    weights.sort(reverse=True)\n",
    "    \n",
    "    # List to store remaining capacities of bins\n",
    "    bins = []\n",
    "    \n",
    "    # Iterate through all weights\n",
    "    for weight in weights:\n",
    "        placed = False\n",
    "        # Try to place item in the first bin that can accommodate it\n",
    "        for i in range(len(bins)):\n",
    "            if bins[i] >= weight:\n",
    "                bins[i] -= weight\n",
    "                placed = True\n",
    "                break\n",
    "        # If no bin could accommodate the item, create a new bin\n",
    "        if not placed:\n",
    "            bins.append(bin_capacity - weight)\n",
    "    \n",
    "    # The number of bins used is the length of the bins list\n",
    "    return len(bins)\n",
    "\n",
    "# Example usage\n",
    "weights = [9, 8, 2, 2, 5, 4]\n",
    "bin_capacity = 10\n",
    "print(\"Minimum number of bins required is:\", first_fit_decreasing(weights, bin_capacity))\n",
    "\n"
   ]
  },
  {
   "cell_type": "code",
   "execution_count": 10,
   "metadata": {},
   "outputs": [
    {
     "name": "stdout",
     "output_type": "stream",
     "text": [
      "Maximum number of thieves caught: 2\n"
     ]
    }
   ],
   "source": [
    "def max_thieves_caught(arr, n, k):\n",
    "    police_positions = []\n",
    "    thief_positions = []\n",
    "    \n",
    "    # Store positions of police and thieves\n",
    "    for i in range(n):\n",
    "        if arr[i] == 'P':\n",
    "            police_positions.append(i)\n",
    "        elif arr[i] == 'T':\n",
    "            thief_positions.append(i)\n",
    "    \n",
    "    i, j = 0, 0  # Pointers for police_positions and thief_positions\n",
    "    caught = 0\n",
    "    \n",
    "    # Use two pointers to catch thieves\n",
    "    while i < len(police_positions) and j < len(thief_positions):\n",
    "        if abs(police_positions[i] - thief_positions[j]) <= k:\n",
    "            # Police at police_positions[i] can catch the thief at thief_positions[j]\n",
    "            caught += 1\n",
    "            i += 1\n",
    "            j += 1\n",
    "        elif police_positions[i] < thief_positions[j]:\n",
    "            # Move to the next police if the current police is too far left from the thief\n",
    "            i += 1\n",
    "        else:\n",
    "            # Move to the next thief if the current thief is too far left from the police\n",
    "            j += 1\n",
    "    \n",
    "    return caught\n",
    "\n",
    "# Example usage\n",
    "arr = ['P', 'T', 'T', 'P', 'T']\n",
    "n = len(arr)\n",
    "k = 1\n",
    "print(\"Maximum number of thieves caught:\", max_thieves_caught(arr, n, k))\n"
   ]
  },
  {
   "cell_type": "code",
   "execution_count": null,
   "metadata": {},
   "outputs": [],
   "source": []
  }
 ],
 "metadata": {
  "kernelspec": {
   "display_name": "base",
   "language": "python",
   "name": "python3"
  },
  "language_info": {
   "codemirror_mode": {
    "name": "ipython",
    "version": 3
   },
   "file_extension": ".py",
   "mimetype": "text/x-python",
   "name": "python",
   "nbconvert_exporter": "python",
   "pygments_lexer": "ipython3",
   "version": "3.9.7"
  }
 },
 "nbformat": 4,
 "nbformat_minor": 2
}
