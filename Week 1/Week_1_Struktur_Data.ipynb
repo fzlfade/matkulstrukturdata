{
  "cells": [
    {
      "cell_type": "code",
      "execution_count": 2,
      "metadata": {
        "colab": {
          "base_uri": "https://localhost:8080/"
        },
        "id": "DJa1p6h63q5f",
        "outputId": "8477994d-fca7-4ef6-8f0e-3694fb7e6cea"
      },
      "outputs": [
        {
          "name": "stdout",
          "output_type": "stream",
          "text": [
            "The new created array is :  1 2 3 \n",
            "\n",
            "The new created array is :  2.5 3.2 3.3 "
          ]
        }
      ],
      "source": [
        "import array as arr\n",
        "a = arr.array('i',[1,2,3])\n",
        "print(\"The new created array is : \", end=\" \")\n",
        "for i in range(0, 3):\n",
        "  print(a[i], end=\" \")\n",
        "print()\n",
        "b = arr.array('d',[2.5,3.2,3.3])\n",
        "print(\"\\nThe new created array is : \", end=\" \")\n",
        "for i in range(0, 3):\n",
        "  print(b[i], end=\" \")"
      ]
    },
    {
      "cell_type": "code",
      "execution_count": 5,
      "metadata": {
        "colab": {
          "base_uri": "https://localhost:8080/"
        },
        "id": "rzVjgiC95QoN",
        "outputId": "cbc17cb1-e9a3-40fc-ad0d-f67661edea82"
      },
      "outputs": [
        {
          "name": "stdout",
          "output_type": "stream",
          "text": [
            "Array before insertion : 123\n",
            "Array after insertion : 1423\n",
            "Array before insertion : 2.53.23.3\n",
            "Array after insertion : 2.53.23.34.4\n"
          ]
        }
      ],
      "source": [
        "import array as arr\n",
        "a = arr.array('i', [1, 2, 3])\n",
        "print(\"Array before insertion : \", end=\"\")\n",
        "for i in range(0, 3):\n",
        "  print(a[i], end=\"\")\n",
        "print()\n",
        "a.insert(1, 4)\n",
        "print(\"Array after insertion : \", end=\"\")\n",
        "for i in (a):\n",
        "  print(i, end=\"\")\n",
        "print()\n",
        "b = arr.array('d', [2.5, 3.2, 3.3])\n",
        "print(\"Array before insertion : \", end=\"\")\n",
        "for i in range(0, 3):\n",
        "  print(b[i], end=\"\")\n",
        "print()\n",
        "b.append(4.4)\n",
        "print(\"Array after insertion : \", end=\"\")\n",
        "for i in (b):\n",
        "  print(i, end=\"\")\n",
        "print()"
      ]
    },
    {
      "cell_type": "code",
      "execution_count": 7,
      "metadata": {
        "colab": {
          "base_uri": "https://localhost:8080/"
        },
        "id": "xhWN5nrK8xVt",
        "outputId": "844f672b-34c8-430a-bfc1-ce4ff34466fc"
      },
      "outputs": [
        {
          "name": "stdout",
          "output_type": "stream",
          "text": [
            "Access element is:  1\n",
            "Access element is:  4\n",
            "Access element is:  3.2\n",
            "Access element is:  3.3\n"
          ]
        }
      ],
      "source": [
        "import array as arr\n",
        "a = arr.array('i', [1, 2, 3, 4, 5, 6])\n",
        "print(\"Access element is: \", a[0])\n",
        "print(\"Access element is: \", a[3])\n",
        "b = arr.array('d', [2.5, 3.2, 3.3])\n",
        "print(\"Access element is: \", b[1])\n",
        "print(\"Access element is: \", b[2])"
      ]
    },
    {
      "cell_type": "code",
      "execution_count": 11,
      "metadata": {
        "colab": {
          "base_uri": "https://localhost:8080/"
        },
        "id": "-ypZF04g9D8U",
        "outputId": "c57968c4-6b49-421a-9c9c-ee3e5bdfd772"
      },
      "outputs": [
        {
          "name": "stdout",
          "output_type": "stream",
          "text": [
            "The new created array is : 12315\r\n",
            "The popped element is : 3\n",
            "The array after popping is : 1 2 1 5 \r\n",
            "The array after removing is : 215"
          ]
        }
      ],
      "source": [
        "import array\n",
        "arr = array.array('i', [1, 2, 3, 1, 5])\n",
        "print(\"The new created array is : \", end=\"\")\n",
        "for i in range(0, 5):\n",
        "  print(arr[i], end=\"\")\n",
        "\n",
        "print(\"\\r\")\n",
        "print(\"The popped element is : \", end=\"\")\n",
        "print(arr.pop(2))\n",
        "print(\"The array after popping is : \", end=\"\")\n",
        "for i in range(0, 4):\n",
        "  print(arr[i], end=\" \")\n",
        "\n",
        "print(\"\\r\")\n",
        "arr.remove(1)\n",
        "print(\"The array after removing is : \", end=\"\")\n",
        "for i in range(0, 3):\n",
        "  print(arr[i], end=\"\")"
      ]
    },
    {
      "cell_type": "code",
      "execution_count": 3,
      "metadata": {
        "id": "5ezgktvr9dxz"
      },
      "outputs": [
        {
          "name": "stdout",
          "output_type": "stream",
          "text": [
            "Initial Array: \n",
            "1 2 3 4 5 6 7 8 9 10 \n",
            "Slicing elements in a range 3-8: \n",
            "array('i', [4, 5, 6, 7, 8])\n",
            "\n",
            "Elements sliced from 5th element till the end: \n",
            "array('i', [6, 7, 8, 9, 10])\n",
            "\n",
            "Printing all elements using slice operation: \n",
            "array('i', [1, 2, 3, 4, 5, 6, 7, 8, 9, 10])\n"
          ]
        }
      ],
      "source": [
        "import array as arr\n",
        "l = [1, 2, 3, 4, 5, 6, 7, 8, 9, 10]\n",
        "\n",
        "a = arr.array('i', l)\n",
        "print(\"Initial Array: \")\n",
        "for i in (a):\n",
        "  print(i, end=\" \")\n",
        "Sliced_array = a[3:8]\n",
        "print(\"\\nSlicing elements in a range 3-8: \")\n",
        "print(Sliced_array)\n",
        "Sliced_array = a[5:]\n",
        "print(\"\\nElements sliced from 5th\"\n",
        "      \" element till the end: \")\n",
        "print(Sliced_array)\n",
        "Sliced_array = a[:]\n",
        "print(\"\\nPrinting all elements using slice operation: \")\n",
        "print(Sliced_array)"
      ]
    },
    {
      "cell_type": "code",
      "execution_count": 9,
      "metadata": {},
      "outputs": [
        {
          "name": "stdout",
          "output_type": "stream",
          "text": [
            "Array before updation : 1 2 3 1 2 5 \n",
            "Array after updation : 1 2 6 1 2 5 \n",
            "Array after updation : 1 2 6 1 8 5 "
          ]
        }
      ],
      "source": [
        "import array\n",
        "arr = array.array('i', [1, 2, 3, 1, 2, 5]) \n",
        "print(\"Array before updation : \", end=\"\")\n",
        "for i in range(0, 6):\n",
        "    print(arr[i], end=\" \")\n",
        "print(\"\\r\")\n",
        "arr[2] = 6\n",
        "print(\"Array after updation : \", end=\"\")\n",
        "for i in range(0, 6):\n",
        "    print(arr[i], end=\" \")\n",
        "print()\n",
        "arr[4] = 8\n",
        "print(\"Array after updation : \", end=\"\")\n",
        "for i in range(0, 6):\n",
        "    print(arr[i], end=\" \")"
      ]
    },
    {
      "cell_type": "code",
      "execution_count": 10,
      "metadata": {},
      "outputs": [
        {
          "name": "stdout",
          "output_type": "stream",
          "text": [
            "Number of occurrences of 2: 3\n"
          ]
        }
      ],
      "source": [
        "import array\n",
        "my_array = array.array('i', [1, 2, 3, 4, 2, 5, 2])\n",
        "\n",
        "#Menghitung elemen array\n",
        "count = my_array.count(2)\n",
        "print(\"Number of occurrences of 2:\", count)"
      ]
    },
    {
      "cell_type": "code",
      "execution_count": 11,
      "metadata": {},
      "outputs": [
        {
          "name": "stdout",
          "output_type": "stream",
          "text": [
            "Number of occurrences of 2: 3\n",
            "Original array: 1 2 3 4 2 5 2\n",
            "Reversed array: 2 5 2 4 3 2 1\n"
          ]
        }
      ],
      "source": [
        "import array\n",
        "my_array = array.array('i', [1, 2, 3, 4, 2, 5, 2])\n",
        "\n",
        "# Menghitung elemen array\n",
        "count = my_array.count(2)\n",
        "print(\"Number of occurrences of 2:\", count)\n",
        "\n",
        "#Membalik Elemen Array\n",
        "print(\"Original array:\", *my_array) \n",
        "my_array.reverse()\n",
        "print(\"Reversed array:\", *my_array)"
      ]
    },
    {
      "cell_type": "code",
      "execution_count": 14,
      "metadata": {},
      "outputs": [
        {
          "name": "stdout",
          "output_type": "stream",
          "text": [
            "The before array extend : 1 2 3 4 5 \n",
            "\n",
            "The array after extend : 1 2 3 4 5 6 7 8 9 10 \n"
          ]
        }
      ],
      "source": [
        "import array as arr\n",
        "a = arr.array('i', [1, 2, 3,4,5])\n",
        "print(\"The before array extend :\", end= \" \")\n",
        "for i in range (0, 5):    \n",
        "    print (a[i], end =\" \")\n",
        "print()\n",
        "a.extend([6,7,8,9,10])\n",
        "print(\"\\nThe array after extend :\", end=\" \")\n",
        "for i in range(0,10):\n",
        "    print(a[i], end=\" \")\n",
        "print()"
      ]
    },
    {
      "cell_type": "code",
      "execution_count": 17,
      "metadata": {},
      "outputs": [
        {
          "name": "stdout",
          "output_type": "stream",
          "text": [
            "The Before extend array is : 1 2 3 4 5 6 \n",
            "\n",
            "the After extend array is : 1 2 3 4 5 6 7 8 9 10 11 12 \n",
            "\n",
            "The before extend array is : 2.1 2.2 2.3 2.4 2.5 2.6 \n",
            "\n",
            "The after extend array is : 2.1 2.2 2.3 2.4 2.5 2.6 2.6 2.7 2.8 2.9 \n"
          ]
        }
      ],
      "source": [
        "import array as arr\n",
        "a=arr.array('i',[1,2,3,4,5,6])\n",
        "print(\"The Before extend array is :\", end =\" \")\n",
        "\n",
        "for i in range(0,6):\n",
        "    print(a[i], end=\" \")\n",
        "print()\n",
        "a.extend((7,8,9,10,11,12))\n",
        "print(\"\\nthe After extend array is :\", end=\" \")\n",
        "\n",
        "for i in range(0,12):\n",
        "    print(a[i], end=\" \")\n",
        "print()\n",
        "b = arr.array('d', [2.1, 2.2, 2.3, 2.4, 2.5, 2.6])\n",
        "print(\"\\nThe before extend array is :\",end=\" \")\n",
        "\n",
        "for i in range(0,6):\n",
        "    print(b[i], end=\" \")\n",
        "print()\n",
        "b.extend([2.6,2.7,2.8,2.9])\n",
        "print(\"\\nThe after extend array is :\", end=\" \")\n",
        "\n",
        "for i in range(0,9+1):\n",
        "    print(b[i], end=\" \")\n",
        "print()"
      ]
    }
  ],
  "metadata": {
    "colab": {
      "provenance": []
    },
    "kernelspec": {
      "display_name": "Python 3",
      "name": "python3"
    },
    "language_info": {
      "codemirror_mode": {
        "name": "ipython",
        "version": 3
      },
      "file_extension": ".py",
      "mimetype": "text/x-python",
      "name": "python",
      "nbconvert_exporter": "python",
      "pygments_lexer": "ipython3",
      "version": "3.9.7"
    }
  },
  "nbformat": 4,
  "nbformat_minor": 0
}
